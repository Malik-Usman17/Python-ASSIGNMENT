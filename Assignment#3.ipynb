{
 "cells": [
  {
   "cell_type": "markdown",
   "metadata": {},
   "source": [
    "### Make a calculator using Python with addition , subtraction , multiplication , division and power."
   ]
  },
  {
   "cell_type": "code",
   "execution_count": 1,
   "metadata": {},
   "outputs": [
    {
     "name": "stdout",
     "output_type": "stream",
     "text": [
      "Enter the operation: add\n",
      "Enter number:20\n",
      "Enter number:50\n",
      "70\n"
     ]
    }
   ],
   "source": [
    "operation = input(\"Enter the operation: \")\n",
    "if operation=='add':\n",
    "    x = int(input('Enter number:'))\n",
    "    y = int(input('Enter number:'))\n",
    "    print(x+y)\n",
    "\n",
    "elif operation=='subtract':\n",
    "    x = int(input('Enter number:'))\n",
    "    y = int(input('Enter number:'))\n",
    "    print(x-y)\n",
    "\n",
    "elif operation=='multiply':\n",
    "    x = int(input('Enter number:'))\n",
    "    y = int(input('Enter number:'))\n",
    "    print(x*y)\n",
    "\n",
    "elif operation=='divide':\n",
    "    x = int(input('Enter number:'))\n",
    "    y = int(input('Enter number:'))\n",
    "    print(x/y)\n",
    "\n",
    "elif operation=='power':\n",
    "    x = int(input('Enter number:'))\n",
    "    y = int(input('Enter number:'))\n",
    "    print(x**y)"
   ]
  },
  {
   "cell_type": "markdown",
   "metadata": {},
   "source": [
    "### Write a program to check if there is any numeric value in list using for loop."
   ]
  },
  {
   "cell_type": "code",
   "execution_count": 8,
   "metadata": {},
   "outputs": [
    {
     "name": "stdout",
     "output_type": "stream",
     "text": [
      "Element Exist\n"
     ]
    }
   ],
   "source": [
    "test_list = [1, 6, 3, 5, 3, 4]\n",
    "for i in test_list:\n",
    "    if (i == 4):\n",
    "        print(\"Element Exist\")\n",
    "        "
   ]
  },
  {
   "cell_type": "markdown",
   "metadata": {},
   "source": [
    "### Write a Python script to add a key to a dictionary. "
   ]
  },
  {
   "cell_type": "code",
   "execution_count": 2,
   "metadata": {},
   "outputs": [
    {
     "name": "stdout",
     "output_type": "stream",
     "text": [
      "Existing dictionary \n",
      " {0: 10, 1: 20, 4: 30}\n",
      "New dictionary \n",
      " {0: 10, 1: 20, 4: 30, 3: 40}\n"
     ]
    }
   ],
   "source": [
    "dict = {0:10, 1:20, 4:30}\n",
    "print('Existing dictionary \\n' ,dict)\n",
    "dict.update({3:40})\n",
    "print(\"New dictionary \\n\" ,dict)"
   ]
  },
  {
   "cell_type": "markdown",
   "metadata": {},
   "source": [
    "### Write a Python program to sum all the numeric items in a dictionary."
   ]
  },
  {
   "cell_type": "code",
   "execution_count": 3,
   "metadata": {},
   "outputs": [
    {
     "name": "stdout",
     "output_type": "stream",
     "text": [
      "Values of a dictionary:  dict_values([10, 20, 30, 40, 50])\n",
      "The sum is: 150\n"
     ]
    }
   ],
   "source": [
    "dict = {'a':10, 'b':20, 'c':30, 'd':40, 'e':50}\n",
    "val = dict.values()\n",
    "print('Values of a dictionary: ',val)\n",
    "sum = sum(dict.values())\n",
    "print(\"The sum is:\" ,sum)"
   ]
  },
  {
   "cell_type": "markdown",
   "metadata": {},
   "source": [
    "### Write a program to identify duplicate values from list."
   ]
  },
  {
   "cell_type": "code",
   "execution_count": 4,
   "metadata": {},
   "outputs": [
    {
     "name": "stdout",
     "output_type": "stream",
     "text": [
      "{1, 4, 5, 9, 10}\n"
     ]
    }
   ],
   "source": [
    "\n",
    "l = [1, 2, 3, 4, 10, 15, 9, 4, 5, 9, 5, 6, 10, 1]\n",
    "print(set([x for x in l if l.count(x) > 1]))"
   ]
  },
  {
   "cell_type": "markdown",
   "metadata": {},
   "source": [
    "### Write a Python script to check if a given key already exists in a dictionary."
   ]
  },
  {
   "cell_type": "code",
   "execution_count": 5,
   "metadata": {},
   "outputs": [
    {
     "name": "stdout",
     "output_type": "stream",
     "text": [
      "Key is present in the dictionary\n",
      "Key is not present in the dictionary\n"
     ]
    }
   ],
   "source": [
    "d = {1: 10, 2: 20, 3: 30, 4: 40, 5: 50, 6: 60}\n",
    "def is_key_present(x):\n",
    "  if x in d:\n",
    "      print('Key is present in the dictionary')\n",
    "  else:\n",
    "      print('Key is not present in the dictionary')\n",
    "is_key_present(5)\n",
    "is_key_present(9)"
   ]
  },
  {
   "cell_type": "code",
   "execution_count": null,
   "metadata": {},
   "outputs": [],
   "source": []
  }
 ],
 "metadata": {
  "kernelspec": {
   "display_name": "Python 3",
   "language": "python",
   "name": "python3"
  },
  "language_info": {
   "codemirror_mode": {
    "name": "ipython",
    "version": 3
   },
   "file_extension": ".py",
   "mimetype": "text/x-python",
   "name": "python",
   "nbconvert_exporter": "python",
   "pygments_lexer": "ipython3",
   "version": "3.7.4"
  }
 },
 "nbformat": 4,
 "nbformat_minor": 2
}
