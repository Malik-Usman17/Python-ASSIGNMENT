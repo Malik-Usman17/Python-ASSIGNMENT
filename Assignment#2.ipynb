{
 "cells": [
  {
   "cell_type": "markdown",
   "metadata": {},
   "source": [
    "### Write a program which takes 5 inputs from user for different subject’s marks, total it and generate mark sheet using grades ? "
   ]
  },
  {
   "cell_type": "code",
   "execution_count": 3,
   "metadata": {},
   "outputs": [
    {
     "name": "stdout",
     "output_type": "stream",
     "text": [
      "Enter Mathematics marks:59\n",
      "Enter English marks:94\n",
      "Enter Urdu marks:75\n",
      "Enter Science marks:61\n",
      "Enter Islamiat marks:80\n",
      "You have secured 369 marks and your percentage is 73.8\n",
      "You have secured A grade.\n"
     ]
    }
   ],
   "source": [
    "total_marks = 500\n",
    "maths = int(input('Enter Mathematics marks:'))\n",
    "english = int(input('Enter English marks:'))\n",
    "urdu = int(input('Enter Urdu marks:'))\n",
    "science = int(input('Enter Science marks:'))\n",
    "islamiat = int(input('Enter Islamiat marks:'))\n",
    "marks_obtained = maths + english + urdu + science + islamiat\n",
    "percentage = (marks_obtained / total_marks) * 100\n",
    "print('You have secured',marks_obtained, 'marks and your percentage is',percentage)\n",
    "\n",
    "if percentage > 79:\n",
    "    print('You have secured A+ grade.')\n",
    "\n",
    "elif percentage > 69:\n",
    "    print('You have secured A grade.')\n",
    "\n",
    "elif percentage > 59:\n",
    "    print('You have secured B+ grade.')\n",
    "\n",
    "elif percentage > 49:\n",
    "    print('You have secured B grade.')\n",
    "\n",
    "else:\n",
    "    print('You are below B grade.')\n"
   ]
  },
  {
   "cell_type": "markdown",
   "metadata": {},
   "source": [
    "### Write a program which take input from user and identify that the given number is even or odd?"
   ]
  },
  {
   "cell_type": "code",
   "execution_count": 4,
   "metadata": {},
   "outputs": [
    {
     "name": "stdout",
     "output_type": "stream",
     "text": [
      "Enter a number: 62\n",
      "Number is even.\n"
     ]
    }
   ],
   "source": [
    "no = int(input('Enter a number: '))\n",
    "if no%2==0:\n",
    "    print('Number is even.')\n",
    "else:\n",
    "    print('Number is odd')"
   ]
  },
  {
   "cell_type": "markdown",
   "metadata": {},
   "source": [
    "### Write a program which print the length of the list?"
   ]
  },
  {
   "cell_type": "code",
   "execution_count": 5,
   "metadata": {},
   "outputs": [
    {
     "name": "stdout",
     "output_type": "stream",
     "text": [
      "The length of the list is: 4\n"
     ]
    }
   ],
   "source": [
    "list = ['Brett Lee', 'Mitchell Starc', 'Dale Steyn', 'Shoaib Akhtar']\n",
    "print('The length of the list is:',len(list))"
   ]
  },
  {
   "cell_type": "markdown",
   "metadata": {},
   "source": [
    "### Write a Python program to sum all the numeric items in a list?"
   ]
  },
  {
   "cell_type": "code",
   "execution_count": 1,
   "metadata": {},
   "outputs": [
    {
     "name": "stdout",
     "output_type": "stream",
     "text": [
      "1000\n"
     ]
    }
   ],
   "source": [
    "list = [100, 100, 300, 400, 100]\n",
    "x = sum(list)\n",
    "print(x)\n",
    "\n"
   ]
  },
  {
   "cell_type": "markdown",
   "metadata": {},
   "source": [
    "### Write a Python program to get the largest number from a numeric list."
   ]
  },
  {
   "cell_type": "code",
   "execution_count": 2,
   "metadata": {},
   "outputs": [
    {
     "name": "stdout",
     "output_type": "stream",
     "text": [
      "220\n"
     ]
    }
   ],
   "source": [
    "list = [12, 40, 100, 115, 220, 70, 95, 170]\n",
    "y = max(list)\n",
    "print(y)"
   ]
  },
  {
   "cell_type": "markdown",
   "metadata": {},
   "source": [
    "### Take a list, say for example this one:\n",
    "### a = [1, 1, 2, 3, 5, 8, 13, 21, 34, 55, 89]\n",
    "### and write a program that prints out all the elements of the list that are less than 5."
   ]
  },
  {
   "cell_type": "code",
   "execution_count": null,
   "metadata": {},
   "outputs": [],
   "source": []
  }
 ],
 "metadata": {
  "kernelspec": {
   "display_name": "Python 3",
   "language": "python",
   "name": "python3"
  },
  "language_info": {
   "codemirror_mode": {
    "name": "ipython",
    "version": 3
   },
   "file_extension": ".py",
   "mimetype": "text/x-python",
   "name": "python",
   "nbconvert_exporter": "python",
   "pygments_lexer": "ipython3",
   "version": "3.7.4"
  }
 },
 "nbformat": 4,
 "nbformat_minor": 2
}
